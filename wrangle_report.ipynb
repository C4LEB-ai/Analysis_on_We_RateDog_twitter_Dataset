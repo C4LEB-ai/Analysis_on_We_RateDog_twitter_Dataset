{
 "cells": [
  {
   "cell_type": "markdown",
   "metadata": {},
   "source": [
    "# Reporting: wragle_report\n",
    "\n",
    "## <u>Introduction</u>"
   ]
  },
  {
   "cell_type": "markdown",
   "metadata": {},
   "source": [
    "This project demonstrates the data wrangling process for the tweet archive of Twitter user @dog_rates, also known\n",
    "as WeRateDogs. WeRateDogs is a Twitter account that rates people's dogs with a humorous comment about the dog. These\n",
    "ratings almost always have a denominator of 10. In this report I will provide a brief description of the data wrangling\n",
    "techniques that were used to gather, assess and clean the dog twitter archive."
   ]
  },
  {
   "cell_type": "code",
   "execution_count": null,
   "metadata": {},
   "outputs": [],
   "source": []
  },
  {
   "cell_type": "markdown",
   "metadata": {},
   "source": [
    "# Data Gatherign"
   ]
  },
  {
   "cell_type": "markdown",
   "metadata": {},
   "source": [
    "The following Datasets where Downloaded mannually & programitically from udacity classroom platform  and loaded programactically to the jupyter notebook for analysis/wrangling                                      \n",
    "since my twitter developer account is yet to be verified.\n",
    "### `image_predictions` : \n",
    "this datast was doanloaded programactically\n",
    "what breed of dog (or other object, animal, etc.) is present in each tweet according to a\n",
    "neural network used on the twitter algorithm\n",
    "### `twitter_archive_enhanced`:\n",
    "This dataset was downloaded manually from udacity platform and consists of basic tweet data from WeRateDogs twitter page.\n",
    "### `tweet_json`:\n",
    "downloaded manually from udacity platform containing tweets, and some other tweeet details"
   ]
  },
  {
   "cell_type": "code",
   "execution_count": null,
   "metadata": {},
   "outputs": [],
   "source": []
  },
  {
   "cell_type": "markdown",
   "metadata": {},
   "source": [
    "# Acessing Data"
   ]
  },
  {
   "cell_type": "markdown",
   "metadata": {},
   "source": [
    "## Quality issues\n",
    "\n",
    "### <u>Image predictions Table </u>\n",
    "1. the dataset contains duplicated values on the jpg_url column\n",
    "\n",
    "2. Erroneous datatype on the `tweet_id` (int instead of float)\n",
    "\n",
    "### <u>twitter_archive_enhanced</u>\n",
    "\n",
    "3. has null columns\n",
    "\n",
    "4. inconsistency in values of the name column eg. a\n",
    "\n",
    "5. remove `HTML` from the source to make it clean\n",
    "\n",
    "### <u>Twitter archive table</u>\n",
    "\n",
    "6. drop columns not needed for our analysis\n",
    "7. Erroneous datatypes in these columns (tweet_id, rating_denominator,rating_numerator, in_reply_to_status_id, in_reply_to_user_id, timestamp, retweeted_status_id, retweeted_status_user_id, retweeted_status_timestamp)\n",
    "8. Missing values in 'name' and dog stages represented as 'None'\n",
    "- Some records have more than on dog stage\n",
    "- Missing URLs in expanded_urls\n",
    "- Source column is in HTML-formatted string, not a normal string\n",
    "- Error in dog names (e.g a,an,actually) are not a dog's name.\n",
    "- text column includes a text and a short link."
   ]
  },
  {
   "cell_type": "code",
   "execution_count": null,
   "metadata": {},
   "outputs": [],
   "source": []
  },
  {
   "cell_type": "markdown",
   "metadata": {},
   "source": [
    "# Tidiness issues\n",
    "\n",
    "### <u>Image predictions Table </u>\n",
    "\n",
    "1. Contact column in patients table should be split into phone number and email\n",
    "\n",
    "2. Three variables in two columns in treatments table (treatment, start dose and end dose)\n",
    "\n",
    "### <u>twitter_archive_enhanced</u>\n",
    "\n",
    "1. The four spacies of dog(doggo, floofer, pupper, puppo) should be joined in a single column named species \n",
    "\n",
    "### <u>tweet_json table</u>\n",
    "1. Join `twitter_archive_enhanced`, `Image predictions` and `tweet_json` tables"
   ]
  },
  {
   "cell_type": "code",
   "execution_count": null,
   "metadata": {},
   "outputs": [],
   "source": []
  },
  {
   "cell_type": "markdown",
   "metadata": {},
   "source": [
    "# Cleaning Data\n"
   ]
  },
  {
   "cell_type": "markdown",
   "metadata": {},
   "source": [
    "- remove duplicated values on the image prediction dataset\n",
    "- remove the HTML formating on the source column in twitter_archive_clean table\n",
    "- change the Datatype of the `tweet_id`, for the tree datasets\n",
    "- chnage the `timestamp` on the twitter_archive_clean to datetime\n",
    "\n",
    "#### From the twitter_archive_clean\n",
    "- Drop retweeted_status_timestamp\", \"retweeted_status_user_id\",\"retweeted_status_id\", \"in_reply_to_user_id\", \"in_reply_to_status_id\"\n",
    "- convert the four columns containing the stages of dog into one single column (doggo, floofer, pupper, puppo)\n",
    "- Drop the four columns and use the newly created column (stage)\n",
    "- corect the name errors and replace none with Nan"
   ]
  },
  {
   "cell_type": "markdown",
   "metadata": {},
   "source": [
    "##### Clean off the HTML formating on th `source` column\n",
    "change the `ID` datatype from int to Object\n",
    "##### drop the folowing on the  `tweet_json_clean` table\n",
    ">since some of them are almost/totally empty and some of them are not really important eg. (retweeted & favourited) since we already have the retweeted counts and the favourite counts\n",
    "- in_reply_to_status_id \n",
    "- in_reply_to_status_id_str\n",
    "- in_reply_to_user_id\n",
    "- in_reply_to_user_id_str\n",
    "- in_reply_to_screen_name\n",
    "- user\n",
    "- geo\n",
    "- coordinates\n",
    "- place\n",
    "- contributors\n",
    "- retweeted\n",
    "- favourited\n",
    "- retweeted_status              \n",
    "- quoted_status_id             \n",
    "- quoted_status_id_str            \n",
    "- quoted_status \n",
    ">change the `id` column name to tweet_id for easy analysis"
   ]
  },
  {
   "cell_type": "markdown",
   "metadata": {},
   "source": [
    "# Conclusion"
   ]
  },
  {
   "cell_type": "markdown",
   "metadata": {},
   "source": [
    "1. from the `source` column : Twitter for iPhone has the highest population\n",
    "\n",
    "2. pupper has the highest population on the stages of Dog\n",
    "\n",
    "3. en(english) has the highest population in the `lang` columns"
   ]
  },
  {
   "cell_type": "code",
   "execution_count": null,
   "metadata": {},
   "outputs": [],
   "source": []
  }
 ],
 "metadata": {
  "kernelspec": {
   "display_name": "Python 3 (ipykernel)",
   "language": "python",
   "name": "python3"
  },
  "language_info": {
   "codemirror_mode": {
    "name": "ipython",
    "version": 3
   },
   "file_extension": ".py",
   "mimetype": "text/x-python",
   "name": "python",
   "nbconvert_exporter": "python",
   "pygments_lexer": "ipython3",
   "version": "3.9.12"
  }
 },
 "nbformat": 4,
 "nbformat_minor": 2
}
